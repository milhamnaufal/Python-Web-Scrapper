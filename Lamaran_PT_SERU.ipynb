{
 "cells": [
  {
   "cell_type": "code",
   "execution_count": 2,
   "metadata": {},
   "outputs": [
    {
     "name": "stdout",
     "output_type": "stream",
     "text": [
      "Collecting beautifulsoup4\n",
      "  Downloading beautifulsoup4-4.12.3-py3-none-any.whl.metadata (3.8 kB)\n",
      "Collecting soupsieve>1.2 (from beautifulsoup4)\n",
      "  Downloading soupsieve-2.5-py3-none-any.whl.metadata (4.7 kB)\n",
      "Downloading beautifulsoup4-4.12.3-py3-none-any.whl (147 kB)\n",
      "   ---------------------------------------- 0.0/147.9 kB ? eta -:--:--\n",
      "   ---------------------------------------- 0.0/147.9 kB ? eta -:--:--\n",
      "   -------- ------------------------------ 30.7/147.9 kB 660.6 kB/s eta 0:00:01\n",
      "   --------------------- ----------------- 81.9/147.9 kB 919.0 kB/s eta 0:00:01\n",
      "   ---------------------------------------- 147.9/147.9 kB 1.3 MB/s eta 0:00:00\n",
      "Downloading soupsieve-2.5-py3-none-any.whl (36 kB)\n",
      "Installing collected packages: soupsieve, beautifulsoup4\n",
      "Successfully installed beautifulsoup4-4.12.3 soupsieve-2.5\n",
      "Note: you may need to restart the kernel to use updated packages.\n"
     ]
    },
    {
     "name": "stderr",
     "output_type": "stream",
     "text": [
      "\n",
      "[notice] A new release of pip is available: 23.3.1 -> 24.0\n",
      "[notice] To update, run: python.exe -m pip install --upgrade pip\n"
     ]
    }
   ],
   "source": [
    "pip install beautifulsoup4\n"
   ]
  },
  {
   "cell_type": "code",
   "execution_count": 4,
   "metadata": {},
   "outputs": [],
   "source": [
    "import requests\n",
    "from bs4 import BeautifulSoup\n",
    "\n",
    "def scrape_mobil123(merek, tahun, jenis):\n",
    "    # URL untuk dealer Carsome Indonesia di mobil123.com\n",
    "    url = f'https://www.mobil123.com/dealer/carsomeindonesia?make={merek}&year={tahun}&body={jenis}'\n",
    "    \n",
    "    # Melakukan HTTP request\n",
    "    response = requests.get(url)\n",
    "    \n",
    "    # Parsing HTML menggunakan BeautifulSoup\n",
    "    soup = BeautifulSoup(response.text, 'html.parser')\n",
    "    \n",
    "    # Mencari elemen yang mengandung data kendaraan\n",
    "    data = soup.find_all('div', class_='tCarList')\n",
    "    \n",
    "    # Proses ekstraksi data sesuai kebutuhan\n",
    "    # Contoh:\n",
    "    for car in data:\n",
    "        nama_mobil = car.find('h2').text.strip()\n",
    "        harga = car.find('p', class_='cPrice').text.strip()\n",
    "        # Lakukan sesuatu dengan informasi mobil seperti menampilkannya atau menyimpannya ke dalam struktur data yang sesuai\n",
    "    \n",
    "    # Return data yang telah diambil\n",
    "    return data\n",
    "\n",
    "# Contoh penggunaan\n",
    "merek = 'Toyota'\n",
    "tahun = 2020\n",
    "jenis = 'Sedan'\n",
    "\n",
    "data_mobil123 = scrape_mobil123(merek, tahun, jenis)\n",
    "\n",
    "# Lakukan sesuatu dengan data yang telah diambil\n"
   ]
  },
  {
   "cell_type": "code",
   "execution_count": 5,
   "metadata": {},
   "outputs": [],
   "source": [
    "for car in data_mobil123:\n",
    "    print(car)"
   ]
  },
  {
   "cell_type": "code",
   "execution_count": 6,
   "metadata": {},
   "outputs": [],
   "source": [
    "import csv\n",
    "\n",
    "with open('data_mobil123.csv', 'w', newline='') as csvfile:\n",
    "    fieldnames = ['Nama Mobil', 'Harga']\n",
    "    writer = csv.DictWriter(csvfile, fieldnames=fieldnames)\n",
    "    \n",
    "    writer.writeheader()\n",
    "    for car in data_mobil123:\n",
    "        nama_mobil = car.find('h2').text.strip()\n",
    "        harga = car.find('p', class_='cPrice').text.strip()\n",
    "        writer.writerow({'Nama Mobil': nama_mobil, 'Harga': harga})\n"
   ]
  },
  {
   "cell_type": "code",
   "execution_count": 7,
   "metadata": {},
   "outputs": [
    {
     "ename": "AttributeError",
     "evalue": "'NoneType' object has no attribute 'text'",
     "output_type": "error",
     "traceback": [
      "\u001b[1;31m---------------------------------------------------------------------------\u001b[0m",
      "\u001b[1;31mAttributeError\u001b[0m                            Traceback (most recent call last)",
      "Cell \u001b[1;32mIn[7], line 22\u001b[0m\n\u001b[0;32m     20\u001b[0m \u001b[38;5;66;03m# Contoh penggunaan\u001b[39;00m\n\u001b[0;32m     21\u001b[0m url_mobil123 \u001b[38;5;241m=\u001b[39m \u001b[38;5;124m'\u001b[39m\u001b[38;5;124mhttps://www.mobil123.com/dijual/mitsubishi-xpander-ultimate-banten-bintaro/12689288?carsome=true\u001b[39m\u001b[38;5;124m'\u001b[39m\n\u001b[1;32m---> 22\u001b[0m info_mobil \u001b[38;5;241m=\u001b[39m \u001b[43mscrape_mobil123_detail\u001b[49m\u001b[43m(\u001b[49m\u001b[43murl_mobil123\u001b[49m\u001b[43m)\u001b[49m\n\u001b[0;32m     24\u001b[0m \u001b[38;5;66;03m# Menampilkan informasi mobil\u001b[39;00m\n\u001b[0;32m     25\u001b[0m \u001b[38;5;28mprint\u001b[39m(info_mobil)\n",
      "Cell \u001b[1;32mIn[7], line 12\u001b[0m, in \u001b[0;36mscrape_mobil123_detail\u001b[1;34m(url)\u001b[0m\n\u001b[0;32m      9\u001b[0m soup \u001b[38;5;241m=\u001b[39m BeautifulSoup(response\u001b[38;5;241m.\u001b[39mtext, \u001b[38;5;124m'\u001b[39m\u001b[38;5;124mhtml.parser\u001b[39m\u001b[38;5;124m'\u001b[39m)\n\u001b[0;32m     11\u001b[0m \u001b[38;5;66;03m# Mencari elemen yang mengandung informasi mobil\u001b[39;00m\n\u001b[1;32m---> 12\u001b[0m nama_mobil \u001b[38;5;241m=\u001b[39m \u001b[43msoup\u001b[49m\u001b[38;5;241;43m.\u001b[39;49m\u001b[43mfind\u001b[49m\u001b[43m(\u001b[49m\u001b[38;5;124;43m'\u001b[39;49m\u001b[38;5;124;43mh1\u001b[39;49m\u001b[38;5;124;43m'\u001b[39;49m\u001b[43m,\u001b[49m\u001b[43m \u001b[49m\u001b[43mclass_\u001b[49m\u001b[38;5;241;43m=\u001b[39;49m\u001b[38;5;124;43m'\u001b[39;49m\u001b[38;5;124;43mcAdTitle\u001b[39;49m\u001b[38;5;124;43m'\u001b[39;49m\u001b[43m)\u001b[49m\u001b[38;5;241;43m.\u001b[39;49m\u001b[43mtext\u001b[49m\u001b[38;5;241m.\u001b[39mstrip()\n\u001b[0;32m     13\u001b[0m harga \u001b[38;5;241m=\u001b[39m soup\u001b[38;5;241m.\u001b[39mfind(\u001b[38;5;124m'\u001b[39m\u001b[38;5;124mspan\u001b[39m\u001b[38;5;124m'\u001b[39m, class_\u001b[38;5;241m=\u001b[39m\u001b[38;5;124m'\u001b[39m\u001b[38;5;124mcPrice\u001b[39m\u001b[38;5;124m'\u001b[39m)\u001b[38;5;241m.\u001b[39mtext\u001b[38;5;241m.\u001b[39mstrip()\n\u001b[0;32m     15\u001b[0m \u001b[38;5;66;03m# Informasi tambahan dapat dicari dengan cara yang serupa\u001b[39;00m\n\u001b[0;32m     16\u001b[0m \n\u001b[0;32m     17\u001b[0m \u001b[38;5;66;03m# Return informasi mobil\u001b[39;00m\n",
      "\u001b[1;31mAttributeError\u001b[0m: 'NoneType' object has no attribute 'text'"
     ]
    }
   ],
   "source": [
    "import requests\n",
    "from bs4 import BeautifulSoup\n",
    "\n",
    "def scrape_mobil123_detail(url):\n",
    "    # Melakukan HTTP request ke halaman mobil123\n",
    "    response = requests.get(url)\n",
    "    \n",
    "    # Parsing HTML menggunakan BeautifulSoup\n",
    "    soup = BeautifulSoup(response.text, 'html.parser')\n",
    "    \n",
    "    # Mencari elemen yang mengandung informasi mobil\n",
    "    nama_mobil = soup.find('h1', class_='cAdTitle').text.strip()\n",
    "    harga = soup.find('span', class_='cPrice').text.strip()\n",
    "    \n",
    "    # Informasi tambahan dapat dicari dengan cara yang serupa\n",
    "    \n",
    "    # Return informasi mobil\n",
    "    return {'Nama Mobil': nama_mobil, 'Harga': harga}\n",
    "\n",
    "# Contoh penggunaan\n",
    "url_mobil123 = 'https://www.mobil123.com/dijual/mitsubishi-xpander-ultimate-banten-bintaro/12689288?carsome=true'\n",
    "info_mobil = scrape_mobil123_detail(url_mobil123)\n",
    "\n",
    "# Menampilkan informasi mobil\n",
    "print(info_mobil)\n"
   ]
  }
 ],
 "metadata": {
  "kernelspec": {
   "display_name": "base",
   "language": "python",
   "name": "python3"
  },
  "language_info": {
   "codemirror_mode": {
    "name": "ipython",
    "version": 3
   },
   "file_extension": ".py",
   "mimetype": "text/x-python",
   "name": "python",
   "nbconvert_exporter": "python",
   "pygments_lexer": "ipython3",
   "version": "3.12.0"
  }
 },
 "nbformat": 4,
 "nbformat_minor": 2
}
